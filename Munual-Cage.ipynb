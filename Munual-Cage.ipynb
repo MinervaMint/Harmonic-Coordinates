{
 "cells": [
  {
   "cell_type": "code",
   "execution_count": 1,
   "id": "applied-snapshot",
   "metadata": {
    "ExecuteTime": {
     "end_time": "2021-05-10T07:26:41.900774Z",
     "start_time": "2021-05-10T07:26:40.944352Z"
    }
   },
   "outputs": [],
   "source": [
    "import numpy as np\n",
    "import igl\n",
    "import meshplot as mp\n",
    "from scipy.spatial.transform import Rotation\n",
    "import ipywidgets as iw"
   ]
  },
  {
   "cell_type": "code",
   "execution_count": 2,
   "id": "metropolitan-mirror",
   "metadata": {
    "ExecuteTime": {
     "end_time": "2021-05-10T07:26:41.910546Z",
     "start_time": "2021-05-10T07:26:41.902453Z"
    }
   },
   "outputs": [],
   "source": [
    "with np.load('data/octa_sphere_5.npz') as npl:\n",
    "    v_s, f_s = npl['v'], npl['f']"
   ]
  },
  {
   "cell_type": "code",
   "execution_count": 3,
   "id": "exciting-perspective",
   "metadata": {
    "ExecuteTime": {
     "end_time": "2021-05-10T07:26:41.920498Z",
     "start_time": "2021-05-10T07:26:41.912419Z"
    }
   },
   "outputs": [],
   "source": [
    "v, f = igl.read_triangle_mesh('data/woody-hi.off')\n",
    "# segments_recording = np.zeros(len(v), dtype=int)"
   ]
  },
  {
   "cell_type": "code",
   "execution_count": 4,
   "id": "middle-census",
   "metadata": {
    "ExecuteTime": {
     "end_time": "2021-05-10T07:26:42.329422Z",
     "start_time": "2021-05-10T07:26:42.326857Z"
    }
   },
   "outputs": [],
   "source": [
    "v -= v.min(axis=0)\n",
    "v /= v.max()"
   ]
  },
  {
   "cell_type": "code",
   "execution_count": 23,
   "id": "provincial-metropolitan",
   "metadata": {
    "ExecuteTime": {
     "end_time": "2021-05-10T07:47:17.553004Z",
     "start_time": "2021-05-10T07:47:17.414555Z"
    }
   },
   "outputs": [
    {
     "data": {
      "application/vnd.jupyter.widget-view+json": {
       "model_id": "6439c689129644a3a80d24bbec3e2d7b",
       "version_major": 2,
       "version_minor": 0
      },
      "text/plain": [
       "interactive(children=(ToggleButtons(description='Cage Vertices', options=(1, '+'), value=1), Output()), _dom_c…"
      ]
     },
     "metadata": {},
     "output_type": "display_data"
    },
    {
     "data": {
      "application/vnd.jupyter.widget-view+json": {
       "model_id": "cff0d982cfd34053a0297ba0b4c2f07d",
       "version_major": 2,
       "version_minor": 0
      },
      "text/plain": [
       "HBox(children=(Button(description='Add', style=ButtonStyle()), Button(description='Clear', style=ButtonStyle()…"
      ]
     },
     "metadata": {},
     "output_type": "display_data"
    },
    {
     "data": {
      "application/vnd.jupyter.widget-view+json": {
       "model_id": "a1a8442ef37d4130bba778528d7458a9",
       "version_major": 2,
       "version_minor": 0
      },
      "text/plain": [
       "Renderer(camera=PerspectiveCamera(children=(DirectionalLight(color='white', intensity=0.6, position=(0.4306930…"
      ]
     },
     "metadata": {},
     "output_type": "display_data"
    },
    {
     "data": {
      "application/vnd.jupyter.widget-view+json": {
       "model_id": "ff5c571382ce4a6f9a6041df28c990fb",
       "version_major": 2,
       "version_minor": 0
      },
      "text/plain": [
       "interactive(children=(FloatSlider(value=0.01, description='radius', max=1.0, min=0.01), FloatSlider(value=0.0,…"
      ]
     },
     "metadata": {},
     "output_type": "display_data"
    },
    {
     "data": {
      "text/plain": [
       "<function __main__.sf(radius, x, y, z)>"
      ]
     },
     "execution_count": 23,
     "metadata": {},
     "output_type": "execute_result"
    }
   ],
   "source": [
    "# store the cage\n",
    "cage = []\n",
    "\n",
    "tb = iw.ToggleButtons(description='Cage Vertices', options=[1,'+'])\n",
    "@mp.interact(x=tb)\n",
    "def s_but(x):\n",
    "    if x == '+':\n",
    "        tb.options = list(range(1,len(tb.options)+1)) + ['+']\n",
    "        tb.value = len(tb.options) - 1\n",
    "    else:\n",
    "        tb.current = x\n",
    "\n",
    "button = iw.Button(description=\"Add\")\n",
    "clear_button = iw.Button(description=\"Clear\")\n",
    "\n",
    "\n",
    "# Set Callback\n",
    "def add_clicked(b):\n",
    "    cage.append(sf.coord[1:])\n",
    "    \n",
    "def clear_clicked(b):\n",
    "    if (len(cage) > 0):\n",
    "        cage.pop()\n",
    "    \n",
    "button.on_click(add_clicked)\n",
    "clear_button.on_click(clear_clicked)\n",
    "\n",
    "# Display Buttons\n",
    "display(iw.HBox([button, clear_button]))\n",
    "\n",
    "# Meshplot\n",
    "paint_ui = mp.plot(v,f)#,c=segments_recording)\n",
    "paint_ui.add_mesh(v_s*0.1, f_s,shading={\"flat\":False},c=np.array([1,0,0]))\n",
    "def sf(radius,x,y,z):\n",
    "    paint_ui.update_object(oid = 1, vertices = v_s*radius + np.array([x,y,z]))\n",
    "    sf.coord = [radius,x,y,z]\n",
    "mp.interact(sf, \n",
    "            radius = iw.FloatSlider(min=0.01, max=1, value=0.01),\n",
    "            x = iw.FloatSlider(min=-0.1, max=1, value=0, step=0.05),\n",
    "            y = iw.FloatSlider(min=-0.1, max=1, value=0, step=0.05),\n",
    "            z = iw.FloatSlider(min=-0.1, max=1, value=0, step=0.05))"
   ]
  },
  {
   "cell_type": "code",
   "execution_count": 24,
   "id": "american-recording",
   "metadata": {
    "ExecuteTime": {
     "end_time": "2021-05-10T07:51:56.659468Z",
     "start_time": "2021-05-10T07:51:56.654218Z"
    }
   },
   "outputs": [],
   "source": [
    "np.save('data/woody-hi.cage.npy', cage)"
   ]
  },
  {
   "cell_type": "code",
   "execution_count": null,
   "id": "fuzzy-facial",
   "metadata": {},
   "outputs": [],
   "source": []
  },
  {
   "cell_type": "code",
   "execution_count": null,
   "id": "referenced-peace",
   "metadata": {},
   "outputs": [],
   "source": []
  },
  {
   "cell_type": "code",
   "execution_count": null,
   "id": "printable-smith",
   "metadata": {},
   "outputs": [],
   "source": []
  }
 ],
 "metadata": {
  "kernelspec": {
   "display_name": "Python 3",
   "language": "python",
   "name": "python3"
  },
  "language_info": {
   "codemirror_mode": {
    "name": "ipython",
    "version": 3
   },
   "file_extension": ".py",
   "mimetype": "text/x-python",
   "name": "python",
   "nbconvert_exporter": "python",
   "pygments_lexer": "ipython3",
   "version": "3.9.1"
  }
 },
 "nbformat": 4,
 "nbformat_minor": 5
}
