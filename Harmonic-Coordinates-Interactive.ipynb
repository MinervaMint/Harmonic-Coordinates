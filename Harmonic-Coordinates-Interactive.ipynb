{
 "cells": [
  {
   "cell_type": "code",
   "execution_count": 1,
   "id": "operational-policy",
   "metadata": {
    "ExecuteTime": {
     "end_time": "2021-05-13T10:21:59.529148Z",
     "start_time": "2021-05-13T10:21:58.446460Z"
    }
   },
   "outputs": [],
   "source": [
    "import numpy as np\n",
    "import igl\n",
    "import meshplot as mp\n",
    "import ipywidgets as iw\n",
    "import time\n",
    "import scipy.sparse as sp\n",
    "import triangle as tr\n",
    "import matplotlib.pyplot as plt"
   ]
  },
  {
   "cell_type": "code",
   "execution_count": 2,
   "id": "operational-kingdom",
   "metadata": {
    "ExecuteTime": {
     "end_time": "2021-05-13T10:21:59.544453Z",
     "start_time": "2021-05-13T10:21:59.531609Z"
    }
   },
   "outputs": [],
   "source": [
    "v, f = igl.read_triangle_mesh('data/woody-hi.off')\n",
    "cage = np.load('data/woody-hi.cage-1.npy')\n",
    "v -= v.min(axis=0)\n",
    "v /= v.max()"
   ]
  },
  {
   "cell_type": "code",
   "execution_count": 5,
   "id": "flying-geneva",
   "metadata": {
    "ExecuteTime": {
     "end_time": "2021-05-13T10:22:52.879651Z",
     "start_time": "2021-05-13T10:22:52.872417Z"
    }
   },
   "outputs": [],
   "source": [
    "cage_segment = (np.vstack((np.arange(cage.shape[0]), np.arange(cage.shape[0])+1))).T\n",
    "cage_segment[-1,-1] = 0\n",
    "\n",
    "cage_dict = dict(vertices=cage[:,:2], segments=cage_segment)\n",
    "cage_tri = tr.triangulate(cage_dict, 'pqa0.01')\n",
    "\n",
    "cage_v = cage_tri['vertices']\n",
    "cage_v = np.hstack((cage_v, np.zeros((cage_v.shape[0],1))))\n",
    "cage_f = cage_tri['triangles']\n",
    "cage_markers = cage_tri['vertex_markers']"
   ]
  },
  {
   "cell_type": "code",
   "execution_count": 6,
   "id": "antique-pioneer",
   "metadata": {
    "ExecuteTime": {
     "end_time": "2021-05-13T10:22:54.178777Z",
     "start_time": "2021-05-13T10:22:54.175953Z"
    }
   },
   "outputs": [],
   "source": [
    "num_cage_boundary_v = cage.shape[0]"
   ]
  },
  {
   "cell_type": "code",
   "execution_count": 7,
   "id": "hybrid-snapshot",
   "metadata": {
    "ExecuteTime": {
     "end_time": "2021-05-13T10:22:59.812051Z",
     "start_time": "2021-05-13T10:22:59.806537Z"
    }
   },
   "outputs": [],
   "source": [
    "Lw = igl.cotmatrix(cage_v, cage_f)\n",
    "M = igl.massmatrix(cage_v, cage_f, igl.MASSMATRIX_TYPE_VORONOI)\n",
    "Minv = sp.diags(1 / M.diagonal())"
   ]
  },
  {
   "cell_type": "code",
   "execution_count": null,
   "id": "attended-marine",
   "metadata": {
    "ExecuteTime": {
     "end_time": "2021-05-13T10:03:09.249215Z",
     "start_time": "2021-05-13T10:03:09.239022Z"
    }
   },
   "outputs": [],
   "source": [
    "A = Minv * Lw\n",
    "Aff = A[np.argwhere(cage_markers!=1)[:,0],:]\n",
    "Aff = Aff[:,np.argwhere(cage_markers!=1)[:,0]]\n",
    "Afc = A[np.argwhere(cage_markers!=1)[:,0],:]\n",
    "Afc = Afc[:,np.argwhere(cage_markers==1)[:,0]]\n",
    "xc = np.eye(np.sum(cage_markers))\n",
    "rhs = -Afc * xc\n",
    "xf = sp.linalg.spsolve(Aff, rhs)\n",
    "x = np.zeros((cage_v.shape[0], np.sum(cage_markers)))\n",
    "x[np.argwhere(cage_markers==1)[:,0],:] = xc\n",
    "x[np.argwhere(cage_markers!=1)[:,0],:] = xf"
   ]
  },
  {
   "cell_type": "code",
   "execution_count": null,
   "id": "molecular-intent",
   "metadata": {
    "ExecuteTime": {
     "end_time": "2021-05-13T10:05:45.415785Z",
     "start_time": "2021-05-13T10:05:45.355812Z"
    },
    "scrolled": false
   },
   "outputs": [],
   "source": [
    "p = mp.plot(v, f)\n",
    "p.add_points(cage, shading={\"point_color\":\"green\", \"point_size\":0.1})\n",
    "p.add_lines(cage, np.vstack((cage[1:],cage[0])))"
   ]
  },
  {
   "cell_type": "code",
   "execution_count": null,
   "id": "curious-nelson",
   "metadata": {
    "ExecuteTime": {
     "end_time": "2021-05-13T10:03:09.281625Z",
     "start_time": "2021-05-13T10:03:09.251505Z"
    }
   },
   "outputs": [],
   "source": [
    "cage_oid = p.add_mesh(cage_v, cage_f, shading={\"wireframe\":True})\n",
    "# p.update_object(oid=cage_oid, colors=x[:,3])"
   ]
  },
  {
   "cell_type": "code",
   "execution_count": null,
   "id": "least-brush",
   "metadata": {},
   "outputs": [],
   "source": []
  },
  {
   "cell_type": "code",
   "execution_count": null,
   "id": "monetary-reverse",
   "metadata": {},
   "outputs": [],
   "source": []
  },
  {
   "cell_type": "code",
   "execution_count": null,
   "id": "viral-brush",
   "metadata": {},
   "outputs": [],
   "source": []
  },
  {
   "cell_type": "code",
   "execution_count": null,
   "id": "adolescent-depression",
   "metadata": {},
   "outputs": [],
   "source": []
  },
  {
   "cell_type": "code",
   "execution_count": null,
   "id": "excessive-nursing",
   "metadata": {},
   "outputs": [],
   "source": []
  },
  {
   "cell_type": "code",
   "execution_count": null,
   "id": "sensitive-subsection",
   "metadata": {
    "ExecuteTime": {
     "end_time": "2021-05-11T08:55:58.737965Z",
     "start_time": "2021-05-11T08:55:58.732872Z"
    }
   },
   "outputs": [],
   "source": []
  },
  {
   "cell_type": "code",
   "execution_count": null,
   "id": "studied-reconstruction",
   "metadata": {
    "ExecuteTime": {
     "end_time": "2021-05-13T10:03:09.289092Z",
     "start_time": "2021-05-13T10:03:09.283928Z"
    }
   },
   "outputs": [],
   "source": [
    "def within_triangle(p, v, f):\n",
    "    for i in range(f.shape[0]):\n",
    "        v0 = v[f[i,0]]\n",
    "        v1 = v[f[i,1]]\n",
    "        v2 = v[f[i,2]]\n",
    "        A = np.vstack((v1-v0, v2-v0)).T\n",
    "        b = (p-v0)\n",
    "        sol = np.linalg.lstsq(A, b, rcond=None)[0]\n",
    "        if (sol[0] >= 0 and sol[1] >= 0 and sol[0]+sol[1]<=1):\n",
    "            return i"
   ]
  },
  {
   "cell_type": "code",
   "execution_count": null,
   "id": "parallel-distributor",
   "metadata": {
    "ExecuteTime": {
     "end_time": "2021-05-13T10:03:09.296199Z",
     "start_time": "2021-05-13T10:03:09.291664Z"
    }
   },
   "outputs": [],
   "source": [
    "def barycentric_coord(p, v, f, i):\n",
    "    v0 = v[f[i,0]]\n",
    "    v1 = v[f[i,1]]\n",
    "    v2 = v[f[i,2]]\n",
    "    A = np.vstack((v0,v1,v2)).T\n",
    "    A = np.vstack((A, np.ones((1,3))))\n",
    "    b = np.hstack((p, np.array([1,])))\n",
    "    w = np.linalg.lstsq(A, b, rcond=None)[0]\n",
    "    return w"
   ]
  },
  {
   "cell_type": "code",
   "execution_count": null,
   "id": "entitled-mistake",
   "metadata": {
    "ExecuteTime": {
     "end_time": "2021-05-13T10:03:13.459469Z",
     "start_time": "2021-05-13T10:03:09.298774Z"
    },
    "scrolled": true
   },
   "outputs": [],
   "source": [
    "hc = np.zeros((v.shape[0], np.sum(cage_markers)))\n",
    "for i in range(v.shape[0]):\n",
    "    cage_tri_ind = within_triangle(v[i], cage_v, cage_f)\n",
    "    w = barycentric_coord(v[i], cage_v, cage_f, cage_tri_ind)\n",
    "    hc[i,:] = w[0]*x[cage_f[cage_tri_ind,0], :] \\\n",
    "            + w[1]*x[cage_f[cage_tri_ind,1], :] \\\n",
    "            + w[2]*x[cage_f[cage_tri_ind,2], :]"
   ]
  },
  {
   "cell_type": "code",
   "execution_count": null,
   "id": "weighted-momentum",
   "metadata": {
    "ExecuteTime": {
     "end_time": "2021-05-11T09:02:47.245635Z",
     "start_time": "2021-05-11T09:02:47.238912Z"
    }
   },
   "outputs": [],
   "source": []
  },
  {
   "cell_type": "code",
   "execution_count": null,
   "id": "streaming-pressure",
   "metadata": {
    "ExecuteTime": {
     "end_time": "2021-05-11T09:01:51.978109Z",
     "start_time": "2021-05-11T09:01:51.970070Z"
    }
   },
   "outputs": [],
   "source": []
  },
  {
   "cell_type": "code",
   "execution_count": null,
   "id": "elder-doctor",
   "metadata": {},
   "outputs": [],
   "source": []
  },
  {
   "cell_type": "code",
   "execution_count": null,
   "id": "tough-librarian",
   "metadata": {},
   "outputs": [],
   "source": []
  },
  {
   "cell_type": "code",
   "execution_count": null,
   "id": "minor-slovakia",
   "metadata": {},
   "outputs": [],
   "source": []
  },
  {
   "cell_type": "code",
   "execution_count": null,
   "id": "applied-speaker",
   "metadata": {
    "ExecuteTime": {
     "end_time": "2021-05-13T10:03:13.465765Z",
     "start_time": "2021-05-13T10:03:13.461576Z"
    }
   },
   "outputs": [],
   "source": [
    "test = hc @ cage_v[np.argwhere(cage_markers==1)[:,0],:]\n",
    "p.update_object(oid=0, vertices=test)"
   ]
  },
  {
   "cell_type": "code",
   "execution_count": null,
   "id": "sixth-cooperation",
   "metadata": {
    "ExecuteTime": {
     "end_time": "2021-05-13T10:03:13.471496Z",
     "start_time": "2021-05-13T10:03:13.467932Z"
    }
   },
   "outputs": [],
   "source": [
    "cage_v[0,1] -= 0.09\n",
    "p.update_object(oid=cage_oid, vertices=cage_v)"
   ]
  },
  {
   "cell_type": "code",
   "execution_count": null,
   "id": "dietary-airfare",
   "metadata": {
    "ExecuteTime": {
     "end_time": "2021-05-13T10:03:13.477563Z",
     "start_time": "2021-05-13T10:03:13.473860Z"
    }
   },
   "outputs": [],
   "source": [
    "cage_v[1,1] -= 0.09\n",
    "p.update_object(oid=cage_oid, vertices=cage_v)"
   ]
  },
  {
   "cell_type": "code",
   "execution_count": null,
   "id": "distinct-howard",
   "metadata": {
    "ExecuteTime": {
     "end_time": "2021-05-13T10:03:13.483264Z",
     "start_time": "2021-05-13T10:03:13.479771Z"
    }
   },
   "outputs": [],
   "source": [
    "cage_v[2,1] -= 0.09\n",
    "p.update_object(oid=cage_oid, vertices=cage_v)"
   ]
  },
  {
   "cell_type": "code",
   "execution_count": null,
   "id": "pretty-minneapolis",
   "metadata": {
    "ExecuteTime": {
     "end_time": "2021-05-13T10:03:13.493072Z",
     "start_time": "2021-05-13T10:03:13.488631Z"
    }
   },
   "outputs": [],
   "source": [
    "test = hc @ cage_v[np.argwhere(cage_markers==1)[:,0],:]\n",
    "p.update_object(oid=0, vertices=test)"
   ]
  },
  {
   "cell_type": "code",
   "execution_count": null,
   "id": "color-consolidation",
   "metadata": {
    "ExecuteTime": {
     "end_time": "2021-05-13T10:03:13.518083Z",
     "start_time": "2021-05-13T10:03:13.495198Z"
    }
   },
   "outputs": [],
   "source": [
    "p.remove_object(1)\n",
    "p.add_points(cage_v[:num_cage_boundary_v], shading={\"point_color\":\"green\", \"point_size\":0.1})"
   ]
  }
 ],
 "metadata": {
  "kernelspec": {
   "display_name": "Python 3",
   "language": "python",
   "name": "python3"
  },
  "language_info": {
   "codemirror_mode": {
    "name": "ipython",
    "version": 3
   },
   "file_extension": ".py",
   "mimetype": "text/x-python",
   "name": "python",
   "nbconvert_exporter": "python",
   "pygments_lexer": "ipython3",
   "version": "3.9.1"
  }
 },
 "nbformat": 4,
 "nbformat_minor": 5
}
