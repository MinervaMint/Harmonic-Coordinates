{
 "cells": [
  {
   "cell_type": "code",
   "execution_count": 105,
   "id": "operational-policy",
   "metadata": {
    "ExecuteTime": {
     "end_time": "2021-05-13T11:26:13.230247Z",
     "start_time": "2021-05-13T11:26:13.225477Z"
    }
   },
   "outputs": [],
   "source": [
    "import numpy as np\n",
    "import igl\n",
    "import meshplot as mp\n",
    "from scipy.spatial.transform import Rotation\n",
    "import ipywidgets as iw\n",
    "import time\n",
    "import scipy.sparse as sp\n",
    "import triangle as tr\n",
    "import matplotlib.pyplot as plt"
   ]
  },
  {
   "cell_type": "code",
   "execution_count": 135,
   "id": "operational-kingdom",
   "metadata": {
    "ExecuteTime": {
     "end_time": "2021-05-13T12:21:49.796759Z",
     "start_time": "2021-05-13T12:21:49.780008Z"
    }
   },
   "outputs": [],
   "source": [
    "v, f = igl.read_triangle_mesh('data/woody-hi.off')\n",
    "cage = np.load('data/woody-hi.cage-1.npy')\n",
    "v -= v.min(axis=0)\n",
    "v /= v.max()"
   ]
  },
  {
   "cell_type": "code",
   "execution_count": 136,
   "id": "exciting-domain",
   "metadata": {
    "ExecuteTime": {
     "end_time": "2021-05-13T12:21:50.313616Z",
     "start_time": "2021-05-13T12:21:50.141777Z"
    }
   },
   "outputs": [
    {
     "data": {
      "image/png": "[encoded data removed]",
      "text/plain": [
       "<Figure size 432x216 with 2 Axes>"
      ]
     },
     "metadata": {
      "needs_background": "light"
     },
     "output_type": "display_data"
    }
   ],
   "source": [
    "cage_connect = (np.vstack((np.arange(cage.shape[0]), np.arange(cage.shape[0])+1))).T\n",
    "cage_connect[-1,-1] = 0\n",
    "\n",
    "cage_dict = dict(vertices=cage[:,:2], segments=cage_connect)\n",
    "cage_tri = tr.triangulate(cage_dict, 'pqa0.01')\n",
    "\n",
    "tr.compare(plt, cage_dict, cage_tri)\n",
    "plt.show()\n",
    "\n",
    "cage_v = cage_tri['vertices']\n",
    "cage_f = cage_tri['triangles']\n",
    "cage_markers = cage_tri['vertex_markers']\n",
    "\n",
    "cage_v = np.hstack((cage_v, np.zeros((cage_v.shape[0],1))))"
   ]
  },
  {
   "cell_type": "code",
   "execution_count": 137,
   "id": "silent-trust",
   "metadata": {
    "ExecuteTime": {
     "end_time": "2021-05-13T12:21:50.944712Z",
     "start_time": "2021-05-13T12:21:50.940984Z"
    }
   },
   "outputs": [],
   "source": [
    "num_cage_boundary_v = cage.shape[0]"
   ]
  },
  {
   "cell_type": "code",
   "execution_count": 138,
   "id": "northern-adult",
   "metadata": {
    "ExecuteTime": {
     "end_time": "2021-05-13T12:21:51.737872Z",
     "start_time": "2021-05-13T12:21:51.732447Z"
    }
   },
   "outputs": [],
   "source": [
    "Lw = igl.cotmatrix(cage_v, cage_f)\n",
    "M = igl.massmatrix(cage_v, cage_f, igl.MASSMATRIX_TYPE_VORONOI)\n",
    "Minv = sp.diags(1 / M.diagonal())"
   ]
  },
  {
   "cell_type": "code",
   "execution_count": 139,
   "id": "rural-afternoon",
   "metadata": {
    "ExecuteTime": {
     "end_time": "2021-05-13T12:21:52.274416Z",
     "start_time": "2021-05-13T12:21:52.271248Z"
    }
   },
   "outputs": [],
   "source": [
    "# A = Minv * Lw\n",
    "# Aff = A[np.argwhere(cage_markers!=1)[:,0],:]\n",
    "# Aff = Aff[:,np.argwhere(cage_markers!=1)[:,0]]\n",
    "# Afc = A[np.argwhere(cage_markers!=1)[:,0],:]\n",
    "# Afc = Afc[:,np.argwhere(cage_markers==1)[:,0]]\n",
    "# xc = np.eye(np.sum(cage_markers))\n",
    "# rhs = -Afc * xc\n",
    "# xf = sp.linalg.spsolve(Aff, rhs)\n",
    "# x = np.zeros((cage_v.shape[0], np.sum(cage_markers)))\n",
    "# x[np.argwhere(cage_markers==1)[:,0],:] = xc\n",
    "# x[np.argwhere(cage_markers!=1)[:,0],:] = xf"
   ]
  },
  {
   "cell_type": "code",
   "execution_count": 140,
   "id": "superb-signal",
   "metadata": {
    "ExecuteTime": {
     "end_time": "2021-05-13T12:21:52.808235Z",
     "start_time": "2021-05-13T12:21:52.804908Z"
    }
   },
   "outputs": [],
   "source": [
    "# A = Minv * Lw\n",
    "# Aff = A[num_cage_boundary_v:,:]\n",
    "# Aff = Aff[:,num_cage_boundary_v:]\n",
    "# Afc = A[num_cage_boundary_v:,:]\n",
    "# Afc = Afc[:,:num_cage_boundary_v]\n",
    "# xc = np.eye(num_cage_boundary_v)\n",
    "# rhs = -Afc * xc\n",
    "# xf = sp.linalg.spsolve(Aff, rhs)\n",
    "# x = np.vstack((xc, xf))"
   ]
  },
  {
   "cell_type": "code",
   "execution_count": 141,
   "id": "seeing-omega",
   "metadata": {
    "ExecuteTime": {
     "end_time": "2021-05-13T12:21:53.374360Z",
     "start_time": "2021-05-13T12:21:53.370837Z"
    }
   },
   "outputs": [],
   "source": [
    "augmented_boundary = igl.boundary_loop(cage_f)"
   ]
  },
  {
   "cell_type": "code",
   "execution_count": 142,
   "id": "monetary-haven",
   "metadata": {
    "ExecuteTime": {
     "end_time": "2021-05-13T12:21:54.227999Z",
     "start_time": "2021-05-13T12:21:54.208294Z"
    },
    "scrolled": true
   },
   "outputs": [],
   "source": [
    "A = Minv * Lw\n",
    "Aff = A[np.argwhere(cage_markers!=1)[:,0],:]\n",
    "Aff = Aff[:,np.argwhere(cage_markers!=1)[:,0]]\n",
    "Afc = A[np.argwhere(cage_markers!=1)[:,0],:]\n",
    "Afc = Afc[:,np.argwhere(cage_markers==1)[:,0]]\n",
    "xc = np.zeros((np.sum(cage_markers), num_cage_boundary_v))\n",
    "xc[:num_cage_boundary_v,:] = np.eye(num_cage_boundary_v)\n",
    "\n",
    "augmented_boundary_v = np.argwhere(cage_markers==1)[num_cage_boundary_v:,0]\n",
    "for i in range(augmented_boundary_v.size):\n",
    "    curr_v = augmented_boundary_v[i]\n",
    "    j = np.argwhere(augmented_boundary==curr_v)[0]\n",
    "    \n",
    "    k1 = j\n",
    "    while True:\n",
    "        k1 = (k1-1) if k1-1>=0 else augmented_boundary.size-1\n",
    "        if augmented_boundary[k1] < num_cage_boundary_v:\n",
    "            break\n",
    "    k2 = j\n",
    "    while True:\n",
    "        k2 = (k2+1)%augmented_boundary.size\n",
    "        if augmented_boundary[k2] < num_cage_boundary_v:\n",
    "            break\n",
    "    len_seg = np.linalg.norm(cage_v[augmented_boundary[k1]] - cage_v[augmented_boundary[k2]])\n",
    "    len_k1 = np.linalg.norm(cage_v[augmented_boundary[k1]] - cage_v[curr_v])\n",
    "    xc[i+num_cage_boundary_v,augmented_boundary[k2]] = len_k1 / len_seg\n",
    "    xc[i+num_cage_boundary_v,augmented_boundary[k1]] = 1 - len_k1/len_seg      \n",
    "\n",
    "rhs = -Afc * xc\n",
    "xf = sp.linalg.spsolve(Aff, rhs)\n",
    "x = np.zeros((cage_v.shape[0], num_cage_boundary_v))\n",
    "x[:num_cage_boundary_v,:] = xc[:num_cage_boundary_v,:]\n",
    "x[augmented_boundary_v,:] = xc[num_cage_boundary_v:,:]\n",
    "x[np.argwhere(cage_markers!=1)[:,0],:] = xf"
   ]
  },
  {
   "cell_type": "code",
   "execution_count": 145,
   "id": "square-knock",
   "metadata": {
    "ExecuteTime": {
     "end_time": "2021-05-13T12:21:57.241521Z",
     "start_time": "2021-05-13T12:21:57.201381Z"
    }
   },
   "outputs": [
    {
     "data": {
      "application/vnd.jupyter.widget-view+json": {
       "model_id": "9281ee5d2a2a4874887e808030b67b3b",
       "version_major": 2,
       "version_minor": 0
      },
      "text/plain": [
       "Renderer(camera=PerspectiveCamera(children=(DirectionalLight(color='white', intensity=0.6, position=(0.4249999…"
      ]
     },
     "metadata": {},
     "output_type": "display_data"
    }
   ],
   "source": [
    "p = mp.plot(cage_v, cage_f, c=np.random.rand(*cage_f.shape))"
   ]
  },
  {
   "cell_type": "code",
   "execution_count": 150,
   "id": "significant-boost",
   "metadata": {
    "ExecuteTime": {
     "end_time": "2021-05-13T12:22:18.275891Z",
     "start_time": "2021-05-13T12:22:18.271001Z"
    }
   },
   "outputs": [],
   "source": [
    "cage_v = x @ cage_v[:num_cage_boundary_v]\n",
    "p.update_object(oid=0, vertices=cage_v)"
   ]
  },
  {
   "cell_type": "code",
   "execution_count": null,
   "id": "foster-staff",
   "metadata": {},
   "outputs": [],
   "source": []
  },
  {
   "cell_type": "code",
   "execution_count": null,
   "id": "absolute-friendly",
   "metadata": {},
   "outputs": [],
   "source": []
  },
  {
   "cell_type": "code",
   "execution_count": null,
   "id": "known-lodging",
   "metadata": {},
   "outputs": [],
   "source": []
  },
  {
   "cell_type": "code",
   "execution_count": null,
   "id": "alive-extra",
   "metadata": {},
   "outputs": [],
   "source": []
  },
  {
   "cell_type": "code",
   "execution_count": null,
   "id": "strong-major",
   "metadata": {},
   "outputs": [],
   "source": []
  },
  {
   "cell_type": "code",
   "execution_count": null,
   "id": "artistic-administration",
   "metadata": {},
   "outputs": [],
   "source": []
  },
  {
   "cell_type": "code",
   "execution_count": null,
   "id": "political-heavy",
   "metadata": {},
   "outputs": [],
   "source": []
  },
  {
   "cell_type": "code",
   "execution_count": null,
   "id": "guilty-directory",
   "metadata": {},
   "outputs": [],
   "source": []
  },
  {
   "cell_type": "code",
   "execution_count": 3,
   "id": "advanced-hartford",
   "metadata": {
    "ExecuteTime": {
     "end_time": "2021-05-13T10:04:09.752395Z",
     "start_time": "2021-05-13T10:04:09.701458Z"
    },
    "scrolled": false
   },
   "outputs": [
    {
     "data": {
      "application/vnd.jupyter.widget-view+json": {
       "model_id": "6401e0203ca44786bd4cc7b8d0eaadf5",
       "version_major": 2,
       "version_minor": 0
      },
      "text/plain": [
       "Renderer(camera=PerspectiveCamera(children=(DirectionalLight(color='white', intensity=0.6, position=(0.4306930…"
      ]
     },
     "metadata": {},
     "output_type": "display_data"
    },
    {
     "data": {
      "text/plain": [
       "1"
      ]
     },
     "execution_count": 3,
     "metadata": {},
     "output_type": "execute_result"
    }
   ],
   "source": [
    "p = mp.plot(v, f)#, shading={\"wireframe\":True})\n",
    "p.add_points(cage, shading={\"point_color\":\"green\", \"point_size\":0.1})\n",
    "p.add_lines(cage, np.vstack((cage[1:],cage[0])))"
   ]
  },
  {
   "cell_type": "code",
   "execution_count": 12,
   "id": "continuing-police",
   "metadata": {
    "ExecuteTime": {
     "end_time": "2021-05-13T10:04:10.042202Z",
     "start_time": "2021-05-13T10:04:10.008480Z"
    }
   },
   "outputs": [],
   "source": [
    "cage_oid = p.add_mesh(cage_v, cage_f, shading={\"wireframe\":True})\n",
    "p.update_object(oid=cage_oid, colors=x[:,3])"
   ]
  },
  {
   "cell_type": "code",
   "execution_count": null,
   "id": "verified-proposal",
   "metadata": {},
   "outputs": [],
   "source": []
  },
  {
   "cell_type": "code",
   "execution_count": null,
   "id": "vocal-count",
   "metadata": {},
   "outputs": [],
   "source": []
  },
  {
   "cell_type": "code",
   "execution_count": null,
   "id": "classified-burlington",
   "metadata": {},
   "outputs": [],
   "source": []
  },
  {
   "cell_type": "code",
   "execution_count": null,
   "id": "imposed-oakland",
   "metadata": {},
   "outputs": [],
   "source": []
  },
  {
   "cell_type": "code",
   "execution_count": null,
   "id": "married-canadian",
   "metadata": {},
   "outputs": [],
   "source": []
  },
  {
   "cell_type": "code",
   "execution_count": null,
   "id": "unsigned-genome",
   "metadata": {
    "ExecuteTime": {
     "end_time": "2021-05-11T08:55:58.737965Z",
     "start_time": "2021-05-11T08:55:58.732872Z"
    }
   },
   "outputs": [],
   "source": []
  },
  {
   "cell_type": "code",
   "execution_count": 13,
   "id": "accessory-bhutan",
   "metadata": {
    "ExecuteTime": {
     "end_time": "2021-05-13T10:04:10.049099Z",
     "start_time": "2021-05-13T10:04:10.044605Z"
    }
   },
   "outputs": [],
   "source": [
    "def within_triangle(p, v, f):\n",
    "    for i in range(f.shape[0]):\n",
    "        v0 = v[f[i,0]]\n",
    "        v1 = v[f[i,1]]\n",
    "        v2 = v[f[i,2]]\n",
    "        A = np.vstack((v1-v0, v2-v0)).T\n",
    "        b = (p-v0)\n",
    "        sol = np.linalg.lstsq(A, b, rcond=None)[0]\n",
    "        if (sol[0] >= 0 and sol[1] >= 0 and sol[0]+sol[1]<=1):\n",
    "            return i"
   ]
  },
  {
   "cell_type": "code",
   "execution_count": 14,
   "id": "derived-being",
   "metadata": {
    "ExecuteTime": {
     "end_time": "2021-05-13T10:04:10.056259Z",
     "start_time": "2021-05-13T10:04:10.051524Z"
    }
   },
   "outputs": [],
   "source": [
    "def barycentric_coord(p, v, f, i):\n",
    "    v0 = v[f[i,0]]\n",
    "    v1 = v[f[i,1]]\n",
    "    v2 = v[f[i,2]]\n",
    "    A = np.vstack((v0,v1,v2)).T\n",
    "    A = np.vstack((A, np.ones((1,3))))\n",
    "    b = np.hstack((p, np.array([1,])))\n",
    "    w = np.linalg.lstsq(A, b, rcond=None)[0]\n",
    "    return w"
   ]
  },
  {
   "cell_type": "code",
   "execution_count": 15,
   "id": "empirical-jordan",
   "metadata": {
    "ExecuteTime": {
     "end_time": "2021-05-13T10:04:13.723845Z",
     "start_time": "2021-05-13T10:04:10.058854Z"
    },
    "scrolled": true
   },
   "outputs": [],
   "source": [
    "hc = np.zeros((v.shape[0], np.sum(cage_markers)))\n",
    "for i in range(v.shape[0]):\n",
    "    cage_tri_ind = within_triangle(v[i], cage_v, cage_f)\n",
    "    w = barycentric_coord(v[i], cage_v, cage_f, cage_tri_ind)\n",
    "    hc[i,:] = w[0]*x[cage_f[cage_tri_ind,0], :] \\\n",
    "            + w[1]*x[cage_f[cage_tri_ind,1], :] \\\n",
    "            + w[2]*x[cage_f[cage_tri_ind,2], :]"
   ]
  },
  {
   "cell_type": "code",
   "execution_count": null,
   "id": "ruled-turner",
   "metadata": {
    "ExecuteTime": {
     "end_time": "2021-05-11T09:02:47.245635Z",
     "start_time": "2021-05-11T09:02:47.238912Z"
    }
   },
   "outputs": [],
   "source": []
  },
  {
   "cell_type": "code",
   "execution_count": null,
   "id": "answering-library",
   "metadata": {
    "ExecuteTime": {
     "end_time": "2021-05-11T09:01:51.978109Z",
     "start_time": "2021-05-11T09:01:51.970070Z"
    }
   },
   "outputs": [],
   "source": []
  },
  {
   "cell_type": "code",
   "execution_count": null,
   "id": "marine-sociology",
   "metadata": {},
   "outputs": [],
   "source": []
  },
  {
   "cell_type": "code",
   "execution_count": null,
   "id": "unusual-gallery",
   "metadata": {},
   "outputs": [],
   "source": []
  },
  {
   "cell_type": "code",
   "execution_count": null,
   "id": "exterior-grass",
   "metadata": {},
   "outputs": [],
   "source": []
  },
  {
   "cell_type": "code",
   "execution_count": 16,
   "id": "distinct-texture",
   "metadata": {
    "ExecuteTime": {
     "end_time": "2021-05-13T10:04:13.730461Z",
     "start_time": "2021-05-13T10:04:13.726452Z"
    }
   },
   "outputs": [],
   "source": [
    "test = hc @ cage_v[np.argwhere(cage_markers==1)[:,0],:]\n",
    "p.update_object(oid=0, vertices=test)"
   ]
  },
  {
   "cell_type": "code",
   "execution_count": 17,
   "id": "multiple-practice",
   "metadata": {
    "ExecuteTime": {
     "end_time": "2021-05-13T10:04:13.736390Z",
     "start_time": "2021-05-13T10:04:13.732261Z"
    }
   },
   "outputs": [],
   "source": [
    "cage_v[0,1] -= 0.09\n",
    "p.update_object(oid=cage_oid, vertices=cage_v)"
   ]
  },
  {
   "cell_type": "code",
   "execution_count": 18,
   "id": "aquatic-commander",
   "metadata": {
    "ExecuteTime": {
     "end_time": "2021-05-13T10:04:13.741291Z",
     "start_time": "2021-05-13T10:04:13.738237Z"
    }
   },
   "outputs": [],
   "source": [
    "cage_v[1,1] -= 0.09\n",
    "p.update_object(oid=cage_oid, vertices=cage_v)"
   ]
  },
  {
   "cell_type": "code",
   "execution_count": 19,
   "id": "welcome-donor",
   "metadata": {
    "ExecuteTime": {
     "end_time": "2021-05-13T10:04:13.745771Z",
     "start_time": "2021-05-13T10:04:13.742712Z"
    }
   },
   "outputs": [],
   "source": [
    "cage_v[2,1] -= 0.09\n",
    "p.update_object(oid=cage_oid, vertices=cage_v)"
   ]
  },
  {
   "cell_type": "code",
   "execution_count": 20,
   "id": "brilliant-testament",
   "metadata": {
    "ExecuteTime": {
     "end_time": "2021-05-13T10:04:13.753454Z",
     "start_time": "2021-05-13T10:04:13.748074Z"
    }
   },
   "outputs": [],
   "source": [
    "test = hc @ cage_v[np.argwhere(cage_markers==1)[:,0],:]\n",
    "p.update_object(oid=0, vertices=test)"
   ]
  },
  {
   "cell_type": "code",
   "execution_count": 21,
   "id": "fantastic-magazine",
   "metadata": {
    "ExecuteTime": {
     "end_time": "2021-05-13T10:04:13.780701Z",
     "start_time": "2021-05-13T10:04:13.754940Z"
    }
   },
   "outputs": [
    {
     "data": {
      "text/plain": [
       "4"
      ]
     },
     "execution_count": 21,
     "metadata": {},
     "output_type": "execute_result"
    }
   ],
   "source": [
    "p.remove_object(1)\n",
    "p.add_points(cage_v[:num_cage_boundary_v], shading={\"point_color\":\"green\", \"point_size\":0.1})"
   ]
  }
 ],
 "metadata": {
  "kernelspec": {
   "display_name": "Python 3",
   "language": "python",
   "name": "python3"
  },
  "language_info": {
   "codemirror_mode": {
    "name": "ipython",
    "version": 3
   },
   "file_extension": ".py",
   "mimetype": "text/x-python",
   "name": "python",
   "nbconvert_exporter": "python",
   "pygments_lexer": "ipython3",
   "version": "3.9.1"
  }
 },
 "nbformat": 4,
 "nbformat_minor": 5
}
