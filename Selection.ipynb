{
 "cells": [
  {
   "cell_type": "code",
   "execution_count": 1,
   "id": "opposed-yesterday",
   "metadata": {
    "ExecuteTime": {
     "end_time": "2021-05-13T21:29:06.746391Z",
     "start_time": "2021-05-13T21:29:05.839588Z"
    }
   },
   "outputs": [],
   "source": [
    "import numpy as np\n",
    "import igl\n",
    "import meshplot as mp\n",
    "from scipy.spatial.transform import Rotation\n",
    "import ipywidgets as iw"
   ]
  },
  {
   "cell_type": "code",
   "execution_count": 2,
   "id": "thick-functionality",
   "metadata": {
    "ExecuteTime": {
     "end_time": "2021-05-13T21:29:06.755863Z",
     "start_time": "2021-05-13T21:29:06.748074Z"
    }
   },
   "outputs": [],
   "source": [
    "with np.load('data/octa_sphere_5.npz') as npl:\n",
    "    v_s, f_s = npl['v'], npl['f']"
   ]
  },
  {
   "cell_type": "code",
   "execution_count": 3,
   "id": "incident-canon",
   "metadata": {
    "ExecuteTime": {
     "end_time": "2021-05-13T21:29:10.785054Z",
     "start_time": "2021-05-13T21:29:10.771937Z"
    }
   },
   "outputs": [],
   "source": [
    "v, f = igl.read_triangle_mesh('data/woody-hi.off')\n",
    "segments_recording = np.zeros(len(v), dtype=int)"
   ]
  },
  {
   "cell_type": "code",
   "execution_count": 4,
   "id": "prompt-bernard",
   "metadata": {
    "ExecuteTime": {
     "end_time": "2021-05-13T21:29:11.755389Z",
     "start_time": "2021-05-13T21:29:11.750321Z"
    }
   },
   "outputs": [],
   "source": [
    "v -= v.min(axis=0)\n",
    "v /= v.max()"
   ]
  },
  {
   "cell_type": "code",
   "execution_count": 9,
   "id": "available-discipline",
   "metadata": {
    "ExecuteTime": {
     "end_time": "2021-05-13T21:32:46.557726Z",
     "start_time": "2021-05-13T21:32:46.423162Z"
    },
    "scrolled": false
   },
   "outputs": [
    {
     "data": {
      "application/vnd.jupyter.widget-view+json": {
       "model_id": "23f1b6cff8db4567adcf9133978e1b7d",
       "version_major": 2,
       "version_minor": 0
      },
      "text/plain": [
       "interactive(children=(ToggleButtons(description='Segment', options=(1, '+'), value=1), Output()), _dom_classes…"
      ]
     },
     "metadata": {},
     "output_type": "display_data"
    },
    {
     "data": {
      "application/vnd.jupyter.widget-view+json": {
       "model_id": "a88a22ad632b4a6090121b49d8adf357",
       "version_major": 2,
       "version_minor": 0
      },
      "text/plain": [
       "HBox(children=(Button(description='Paint!', style=ButtonStyle()), Button(description='Clear!', style=ButtonSty…"
      ]
     },
     "metadata": {},
     "output_type": "display_data"
    },
    {
     "data": {
      "application/vnd.jupyter.widget-view+json": {
       "model_id": "48b7e836b50641a3b3daf5d6205d44f3",
       "version_major": 2,
       "version_minor": 0
      },
      "text/plain": [
       "Renderer(camera=PerspectiveCamera(children=(DirectionalLight(color='white', intensity=0.6, position=(0.4306930…"
      ]
     },
     "metadata": {},
     "output_type": "display_data"
    },
    {
     "data": {
      "application/vnd.jupyter.widget-view+json": {
       "model_id": "567f28c28f474ee8b08f6c4f5bab3760",
       "version_major": 2,
       "version_minor": 0
      },
      "text/plain": [
       "interactive(children=(FloatSlider(value=0.01, description='radius', max=1.0, min=0.01, step=0.01), FloatSlider…"
      ]
     },
     "metadata": {},
     "output_type": "display_data"
    },
    {
     "data": {
      "text/plain": [
       "<function __main__.sf(radius, x, y, z)>"
      ]
     },
     "execution_count": 9,
     "metadata": {},
     "output_type": "execute_result"
    }
   ],
   "source": [
    "tb = iw.ToggleButtons(description='Segment', options=[1,'+'])\n",
    "@mp.interact(x=tb)\n",
    "def s_but(x):\n",
    "    if x == '+':\n",
    "        tb.options = list(range(1,len(tb.options)+1)) + ['+']\n",
    "        tb.value = len(tb.options) - 1\n",
    "    else:\n",
    "        tb.current = x\n",
    "\n",
    "button = iw.Button(description=\"Paint!\")\n",
    "clear_button = iw.Button(description=\"Clear!\")\n",
    "\n",
    "# Set Callback\n",
    "def paint_clicked(b):\n",
    "    slicer = np.where(np.linalg.norm(v - sf.coord[1:],axis=1) < sf.coord[0])[0]\n",
    "    segments_recording[slicer] = tb.current\n",
    "    paint_ui.update_object(oid=0, colors=segments_recording)\n",
    "def clear_clicked(b):\n",
    "    segments_recording[segments_recording == tb.current] = 0\n",
    "    paint_ui.update_object(oid=0, colors=segments_recording)\n",
    "button.on_click(paint_clicked)\n",
    "clear_button.on_click(clear_clicked)\n",
    "\n",
    "# Display Buttons\n",
    "display(iw.HBox([button, clear_button]))\n",
    "\n",
    "# Meshplot\n",
    "paint_ui = mp.plot(v,f,c=segments_recording)\n",
    "paint_ui.add_mesh(v_s*0.1, f_s,shading={\"flat\":False},c=np.array([1,0,0]))\n",
    "def sf(radius,x,y,z):\n",
    "    paint_ui.update_object(oid = 1, vertices = v_s*radius + np.array([x,y,z]))\n",
    "    sf.coord = [radius,x,y,z]\n",
    "mp.interact(sf, \n",
    "            radius = iw.FloatSlider(min=0.01, max=1, value=0.01, step=0.01),\n",
    "            x = iw.FloatSlider(min=-0.1, max=1, value=0, step=0.01),\n",
    "            y = iw.FloatSlider(min=-0.1, max=1, value=0, step=0.01),\n",
    "            z = iw.FloatSlider(min=-0.1, max=1, value=0, step=0.01))"
   ]
  },
  {
   "cell_type": "code",
   "execution_count": 11,
   "id": "voluntary-button",
   "metadata": {
    "ExecuteTime": {
     "end_time": "2021-05-13T21:34:54.575379Z",
     "start_time": "2021-05-13T21:34:54.571595Z"
    }
   },
   "outputs": [],
   "source": [
    "np.save('data/woody-hi.heart.npy', segments_recording)"
   ]
  },
  {
   "cell_type": "code",
   "execution_count": null,
   "id": "liquid-painting",
   "metadata": {},
   "outputs": [],
   "source": []
  }
 ],
 "metadata": {
  "kernelspec": {
   "display_name": "Python 3",
   "language": "python",
   "name": "python3"
  },
  "language_info": {
   "codemirror_mode": {
    "name": "ipython",
    "version": 3
   },
   "file_extension": ".py",
   "mimetype": "text/x-python",
   "name": "python",
   "nbconvert_exporter": "python",
   "pygments_lexer": "ipython3",
   "version": "3.9.1"
  }
 },
 "nbformat": 4,
 "nbformat_minor": 5
}
