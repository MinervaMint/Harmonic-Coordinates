{
 "cells": [
  {
   "cell_type": "code",
   "execution_count": 1,
   "id": "operational-policy",
   "metadata": {
    "ExecuteTime": {
     "end_time": "2021-05-13T23:34:28.262881Z",
     "start_time": "2021-05-13T23:34:27.141164Z"
    }
   },
   "outputs": [],
   "source": [
    "import numpy as np\n",
    "import igl\n",
    "import meshplot as mp\n",
    "from scipy.spatial.transform import Rotation\n",
    "import ipywidgets as iw\n",
    "import time\n",
    "import scipy.sparse as sp\n",
    "import triangle as tr\n",
    "import matplotlib.pyplot as plt"
   ]
  },
  {
   "cell_type": "code",
   "execution_count": 64,
   "id": "operational-kingdom",
   "metadata": {
    "ExecuteTime": {
     "end_time": "2021-05-14T00:30:26.387392Z",
     "start_time": "2021-05-14T00:30:26.372290Z"
    }
   },
   "outputs": [],
   "source": [
    "v, f = igl.read_triangle_mesh('data/woody-hi.off')\n",
    "# color = np.load('data/woody-hi.heart.npy')\n",
    "cage = np.load('data/woody-hi.cage-1.npy')\n",
    "# heart = np.load('data/woody-hi.heart-cage.npy')\n",
    "# skeleton = np.load('data/woody-hi.skeleton.npy')\n",
    "v -= v.min(axis=0)\n",
    "v /= v.max()"
   ]
  },
  {
   "cell_type": "code",
   "execution_count": 65,
   "id": "exciting-domain",
   "metadata": {
    "ExecuteTime": {
     "end_time": "2021-05-14T00:30:33.957587Z",
     "start_time": "2021-05-14T00:30:33.742905Z"
    }
   },
   "outputs": [
    {
     "data": {
      "image/png": "[encoded data removed]",
      "text/plain": [
       "<Figure size 432x216 with 2 Axes>"
      ]
     },
     "metadata": {
      "needs_background": "light"
     },
     "output_type": "display_data"
    }
   ],
   "source": [
    "cage_connect = (np.vstack((np.arange(cage.shape[0]), np.arange(cage.shape[0])+1))).T\n",
    "cage_connect[-1,-1] = 0\n",
    "\n",
    "\n",
    "# heart_connect = np.vstack(((np.arange(heart.shape[0]), np.arange(heart.shape[0])+1))).T\n",
    "# heart_connect[-1,-1] = 0\n",
    "# heart_connect += cage.shape[0]\n",
    "\n",
    "# cage = np.vstack((cage, heart))\n",
    "# cage_connect = np.vstack((cage_connect, heart_connect))\n",
    "\n",
    "\n",
    "# skeleton_connect = np.array([[0,1],[1,2],[1,3],[1,4],[1,5]])\n",
    "# skeleton_connect += cage.shape[0]\n",
    "\n",
    "# cage = np.vstack((cage, skeleton))\n",
    "# cage_connect = np.vstack((cage_connect, skeleton_connect))\n",
    "\n",
    "\n",
    "cage_dict = dict(vertices=cage[:,:2], segments=cage_connect, segment_markers=np.ones(cage_connect.shape[0]))\n",
    "cage_tri = tr.triangulate(cage_dict, 'pqa0.001')\n",
    "\n",
    "tr.compare(plt, cage_dict, cage_tri)\n",
    "plt.show()\n",
    "\n",
    "cage_v = cage_tri['vertices']\n",
    "cage_f = cage_tri['triangles']\n",
    "cage_markers = cage_tri['vertex_markers']\n",
    "\n",
    "cage_v = np.hstack((cage_v, np.zeros((cage_v.shape[0],1))))"
   ]
  },
  {
   "cell_type": "code",
   "execution_count": 66,
   "id": "silent-trust",
   "metadata": {
    "ExecuteTime": {
     "end_time": "2021-05-14T00:30:34.979055Z",
     "start_time": "2021-05-14T00:30:34.975835Z"
    }
   },
   "outputs": [],
   "source": [
    "num_cage_boundary_v = cage.shape[0]"
   ]
  },
  {
   "cell_type": "code",
   "execution_count": 67,
   "id": "unsigned-yield",
   "metadata": {
    "ExecuteTime": {
     "end_time": "2021-05-14T00:30:35.341673Z",
     "start_time": "2021-05-14T00:30:35.336904Z"
    }
   },
   "outputs": [],
   "source": [
    "def is_on_seg(v, a, b):\n",
    "    av, ab = v-a, b-a\n",
    "    cosine = np.dot(av, ab)\n",
    "    cosine = cosine / (np.linalg.norm(av) * np.linalg.norm(ab))\n",
    "    if np.isclose(cosine,1) and np.linalg.norm(av)/np.linalg.norm(ab) <=1:\n",
    "        return True\n",
    "    return False"
   ]
  },
  {
   "cell_type": "code",
   "execution_count": 68,
   "id": "referenced-binding",
   "metadata": {
    "ExecuteTime": {
     "end_time": "2021-05-14T00:30:35.722435Z",
     "start_time": "2021-05-14T00:30:35.717548Z"
    },
    "code_folding": []
   },
   "outputs": [],
   "source": [
    "def tri_boundary_condition(curr_v, segments, vertices):\n",
    "    for a_ind, b_ind in segments:\n",
    "        a, b = vertices[a_ind], vertices[b_ind]\n",
    "        if is_on_seg(vertices[curr_v], a, b):\n",
    "            len_a = np.linalg.norm(vertices[curr_v] - a)\n",
    "            len_b = np.linalg.norm(vertices[curr_v] - b)\n",
    "            len_seg = np.linalg.norm(a - b)\n",
    "            return a_ind, b_ind, len_b/len_seg, len_a/len_seg"
   ]
  },
  {
   "cell_type": "code",
   "execution_count": 69,
   "id": "northern-adult",
   "metadata": {
    "ExecuteTime": {
     "end_time": "2021-05-14T00:30:36.138945Z",
     "start_time": "2021-05-14T00:30:36.133312Z"
    }
   },
   "outputs": [],
   "source": [
    "Lw = igl.cotmatrix(cage_v, cage_f)\n",
    "M = igl.massmatrix(cage_v, cage_f, igl.MASSMATRIX_TYPE_VORONOI)\n",
    "Minv = sp.diags(1 / M.diagonal())"
   ]
  },
  {
   "cell_type": "code",
   "execution_count": 70,
   "id": "approved-repository",
   "metadata": {
    "ExecuteTime": {
     "end_time": "2021-05-14T00:30:36.689197Z",
     "start_time": "2021-05-14T00:30:36.622396Z"
    },
    "scrolled": false
   },
   "outputs": [],
   "source": [
    "A = Minv * Lw\n",
    "Aff = A[np.argwhere(cage_markers!=1)[:,0],:]\n",
    "Aff = Aff[:,np.argwhere(cage_markers!=1)[:,0]]\n",
    "Afc = A[np.argwhere(cage_markers!=1)[:,0],:]\n",
    "Afc = Afc[:,np.argwhere(cage_markers==1)[:,0]]\n",
    "xc = np.zeros((np.sum(cage_markers), num_cage_boundary_v))\n",
    "xc[:num_cage_boundary_v,:] = np.eye(num_cage_boundary_v)\n",
    "\n",
    "augmented_boundary_v = np.argwhere(cage_markers==1)[num_cage_boundary_v:,0]\n",
    "for i in range(augmented_boundary_v.size):\n",
    "    curr_v = augmented_boundary_v[i]\n",
    "    \n",
    "    a_ind, b_ind, xa, xb = tri_boundary_condition(curr_v, cage_connect, cage_v)\n",
    "    \n",
    "    xc[i+num_cage_boundary_v,a_ind] = xa\n",
    "    xc[i+num_cage_boundary_v,b_ind] = xb\n",
    "\n",
    "rhs = -Afc * xc\n",
    "xf = sp.linalg.spsolve(Aff, rhs)\n",
    "x = np.zeros((cage_v.shape[0], num_cage_boundary_v))\n",
    "x[:num_cage_boundary_v,:] = xc[:num_cage_boundary_v,:]\n",
    "x[augmented_boundary_v,:] = xc[num_cage_boundary_v:,:]\n",
    "x[np.argwhere(cage_markers!=1)[:,0],:] = xf"
   ]
  },
  {
   "cell_type": "code",
   "execution_count": null,
   "id": "noted-documentation",
   "metadata": {},
   "outputs": [],
   "source": []
  },
  {
   "cell_type": "code",
   "execution_count": 71,
   "id": "accessory-bhutan",
   "metadata": {
    "ExecuteTime": {
     "end_time": "2021-05-14T00:30:37.467963Z",
     "start_time": "2021-05-14T00:30:37.462217Z"
    },
    "code_folding": [
     0
    ]
   },
   "outputs": [],
   "source": [
    "def within_triangle(p, v, f):\n",
    "    for i in range(f.shape[0]):\n",
    "        v0 = v[f[i,0]]\n",
    "        v1 = v[f[i,1]]\n",
    "        v2 = v[f[i,2]]\n",
    "        A = np.vstack((v1-v0, v2-v0)).T\n",
    "        b = (p-v0)\n",
    "        sol = np.linalg.lstsq(A, b, rcond=None)[0]\n",
    "        if (sol[0] >= 0 and sol[1] >= 0 and sol[0]+sol[1]<=1):\n",
    "            return i"
   ]
  },
  {
   "cell_type": "code",
   "execution_count": 72,
   "id": "derived-being",
   "metadata": {
    "ExecuteTime": {
     "end_time": "2021-05-14T00:30:37.883100Z",
     "start_time": "2021-05-14T00:30:37.878290Z"
    },
    "code_folding": [
     0
    ]
   },
   "outputs": [],
   "source": [
    "def barycentric_coord(p, v, f, i):\n",
    "    v0 = v[f[i,0]]\n",
    "    v1 = v[f[i,1]]\n",
    "    v2 = v[f[i,2]]\n",
    "    A = np.vstack((v0,v1,v2)).T\n",
    "    A = np.vstack((A, np.ones((1,3))))\n",
    "    b = np.hstack((p, np.array([1,])))\n",
    "    w = np.linalg.lstsq(A, b, rcond=None)[0]\n",
    "    return w"
   ]
  },
  {
   "cell_type": "code",
   "execution_count": 73,
   "id": "empirical-jordan",
   "metadata": {
    "ExecuteTime": {
     "end_time": "2021-05-14T00:31:14.342669Z",
     "start_time": "2021-05-14T00:30:38.308953Z"
    },
    "scrolled": true
   },
   "outputs": [],
   "source": [
    "hc = np.zeros((v.shape[0], num_cage_boundary_v))\n",
    "for i in range(v.shape[0]):\n",
    "    cage_tri_ind = within_triangle(v[i], cage_v, cage_f)\n",
    "    w = barycentric_coord(v[i], cage_v, cage_f, cage_tri_ind)\n",
    "    hc[i,:] = w[0]*x[cage_f[cage_tri_ind,0], :] \\\n",
    "            + w[1]*x[cage_f[cage_tri_ind,1], :] \\\n",
    "            + w[2]*x[cage_f[cage_tri_ind,2], :]"
   ]
  },
  {
   "cell_type": "code",
   "execution_count": null,
   "id": "adolescent-allergy",
   "metadata": {},
   "outputs": [],
   "source": []
  },
  {
   "cell_type": "code",
   "execution_count": 74,
   "id": "encouraging-sound",
   "metadata": {
    "ExecuteTime": {
     "end_time": "2021-05-14T00:31:14.351039Z",
     "start_time": "2021-05-14T00:31:14.345586Z"
    }
   },
   "outputs": [],
   "source": [
    "cage_v_copy = cage_v.copy()\n",
    "v_copy = v.copy()\n",
    "def pos_f(selected_vertices, x,y,z):\n",
    "    t0 = time.time()\n",
    "    \n",
    "    if len(selected_vertices) > 0:\n",
    "        cage_v_copy[selected_vertices,:] = cage_v[selected_vertices,:] + np.array([x,y,z])\n",
    "    v_deformed = pos_f.deformer(cage_v_copy)\n",
    "    global point_oid\n",
    "    global line_oid\n",
    "    p.remove_object(point_oid)\n",
    "    p.remove_object(line_oid)\n",
    "    point_color = np.zeros(num_cage_boundary_v)\n",
    "    if len(selected_vertices) > 0:\n",
    "        point_color[np.array(selected_vertices)] = 1\n",
    "    point_oid = p.add_points(cage_v_copy[:num_cage_boundary_v,:], c=point_color, shading={\"point_size\":0.2})\n",
    "    line_oid = p.add_lines((cage_v_copy[cage_connect[:,0]])[:num_cage_boundary_v,:], (cage_v_copy[cage_connect[:,1]])[:num_cage_boundary_v,:])\n",
    "    \n",
    "    p.update_object(oid=0, vertices = v_deformed)\n",
    "    \n",
    "    t1 = time.time()\n",
    "    print('FPS', 1/(t1 - t0))"
   ]
  },
  {
   "cell_type": "code",
   "execution_count": 75,
   "id": "pleased-debate",
   "metadata": {
    "ExecuteTime": {
     "end_time": "2021-05-14T00:31:14.356797Z",
     "start_time": "2021-05-14T00:31:14.353871Z"
    }
   },
   "outputs": [],
   "source": [
    "def widgets_wrapper():\n",
    "    select_widget = iw.SelectMultiple(\n",
    "                            options=np.arange(num_cage_boundary_v),\n",
    "                            rows=10,\n",
    "                            description=\"Cage Vertices\")\n",
    "    translate_widget = {i:iw.FloatSlider(min=-1, max=1, value=0, step=0.01) \n",
    "                        for i in 'xyz'}\n",
    "\n",
    "    widgets_dict = dict(selected_vertices=select_widget)\n",
    "    widgets_dict.update(translate_widget)\n",
    "    return widgets_dict"
   ]
  },
  {
   "cell_type": "code",
   "execution_count": 76,
   "id": "multiple-september",
   "metadata": {
    "ExecuteTime": {
     "end_time": "2021-05-14T00:31:14.361686Z",
     "start_time": "2021-05-14T00:31:14.358826Z"
    }
   },
   "outputs": [],
   "source": [
    "def position_deformer(cage_v_copy):\n",
    "    \n",
    "    return hc @ cage_v_copy[:num_cage_boundary_v,:]\n",
    "\n",
    "# Register this function to perform interactive deformation\n",
    "pos_f.deformer = position_deformer"
   ]
  },
  {
   "cell_type": "code",
   "execution_count": 77,
   "id": "advanced-hartford",
   "metadata": {
    "ExecuteTime": {
     "end_time": "2021-05-14T00:31:14.498245Z",
     "start_time": "2021-05-14T00:31:14.364360Z"
    },
    "scrolled": false
   },
   "outputs": [
    {
     "data": {
      "application/vnd.jupyter.widget-view+json": {
       "model_id": "356132b5489140bb9cdd198afb248406",
       "version_major": 2,
       "version_minor": 0
      },
      "text/plain": [
       "Renderer(camera=PerspectiveCamera(children=(DirectionalLight(color='white', intensity=0.6, position=(0.4306930…"
      ]
     },
     "metadata": {},
     "output_type": "display_data"
    },
    {
     "data": {
      "application/vnd.jupyter.widget-view+json": {
       "model_id": "80052bfca6d44591a85e93d7af46927a",
       "version_major": 2,
       "version_minor": 0
      },
      "text/plain": [
       "interactive(children=(SelectMultiple(description='Cage Vertices', options=(0, 1, 2, 3, 4, 5, 6, 7, 8, 9, 10, 1…"
      ]
     },
     "metadata": {},
     "output_type": "display_data"
    },
    {
     "data": {
      "text/plain": [
       "<function __main__.pos_f(selected_vertices, x, y, z)>"
      ]
     },
     "execution_count": 77,
     "metadata": {},
     "output_type": "execute_result"
    }
   ],
   "source": [
    "p = mp.plot(v, f, shading={\"width\":400,\"height\":400})#, c=color)\n",
    "point_oid = p.add_points(cage, shading={\"point_size\":0.2})\n",
    "line_oid = p.add_lines(cage[cage_connect[:,0]], cage[cage_connect[:,1]])\n",
    "\n",
    "iw.interact(pos_f,\n",
    "            **widgets_wrapper())"
   ]
  },
  {
   "cell_type": "code",
   "execution_count": null,
   "id": "verified-proposal",
   "metadata": {},
   "outputs": [],
   "source": []
  },
  {
   "cell_type": "code",
   "execution_count": null,
   "id": "vocal-count",
   "metadata": {},
   "outputs": [],
   "source": []
  },
  {
   "cell_type": "code",
   "execution_count": null,
   "id": "classified-burlington",
   "metadata": {},
   "outputs": [],
   "source": []
  },
  {
   "cell_type": "code",
   "execution_count": null,
   "id": "imposed-oakland",
   "metadata": {},
   "outputs": [],
   "source": []
  },
  {
   "cell_type": "code",
   "execution_count": null,
   "id": "married-canadian",
   "metadata": {},
   "outputs": [],
   "source": []
  },
  {
   "cell_type": "code",
   "execution_count": null,
   "id": "marine-sociology",
   "metadata": {},
   "outputs": [],
   "source": []
  },
  {
   "cell_type": "code",
   "execution_count": null,
   "id": "unusual-gallery",
   "metadata": {},
   "outputs": [],
   "source": []
  },
  {
   "cell_type": "code",
   "execution_count": null,
   "id": "exterior-grass",
   "metadata": {},
   "outputs": [],
   "source": []
  }
 ],
 "metadata": {
  "kernelspec": {
   "display_name": "Python 3",
   "language": "python",
   "name": "python3"
  },
  "language_info": {
   "codemirror_mode": {
    "name": "ipython",
    "version": 3
   },
   "file_extension": ".py",
   "mimetype": "text/x-python",
   "name": "python",
   "nbconvert_exporter": "python",
   "pygments_lexer": "ipython3",
   "version": "3.9.1"
  }
 },
 "nbformat": 4,
 "nbformat_minor": 5
}
