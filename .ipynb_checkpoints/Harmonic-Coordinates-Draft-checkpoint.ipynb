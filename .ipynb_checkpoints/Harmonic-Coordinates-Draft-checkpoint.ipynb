{
 "cells": [
  {
   "cell_type": "code",
   "execution_count": 1,
   "id": "operational-policy",
   "metadata": {
    "ExecuteTime": {
     "end_time": "2021-05-13T14:38:43.944466Z",
     "start_time": "2021-05-13T14:38:43.379529Z"
    }
   },
   "outputs": [],
   "source": [
    "import numpy as np\n",
    "import igl\n",
    "import meshplot as mp\n",
    "from scipy.spatial.transform import Rotation\n",
    "import ipywidgets as iw\n",
    "import time\n",
    "import scipy.sparse as sp\n",
    "import triangle as tr\n",
    "import matplotlib.pyplot as plt"
   ]
  },
  {
   "cell_type": "code",
   "execution_count": 2,
   "id": "operational-kingdom",
   "metadata": {
    "ExecuteTime": {
     "end_time": "2021-05-13T14:38:43.955382Z",
     "start_time": "2021-05-13T14:38:43.947006Z"
    }
   },
   "outputs": [],
   "source": [
    "v, f = igl.read_triangle_mesh('data/woody-hi.off')\n",
    "cage = np.load('data/woody-hi.cage-1.npy')\n",
    "v -= v.min(axis=0)\n",
    "v /= v.max()"
   ]
  },
  {
   "cell_type": "code",
   "execution_count": 3,
   "id": "exciting-domain",
   "metadata": {
    "ExecuteTime": {
     "end_time": "2021-05-13T14:38:43.961913Z",
     "start_time": "2021-05-13T14:38:43.957474Z"
    }
   },
   "outputs": [],
   "source": [
    "cage_connect = (np.vstack((np.arange(cage.shape[0]), np.arange(cage.shape[0])+1))).T\n",
    "cage_connect[-1,-1] = 0\n",
    "\n",
    "cage_dict = dict(vertices=cage[:,:2], segments=cage_connect)\n",
    "cage_tri = tr.triangulate(cage_dict, 'pqa0.01')\n",
    "\n",
    "cage_v = cage_tri['vertices']\n",
    "cage_f = cage_tri['triangles']\n",
    "cage_markers = cage_tri['vertex_markers']\n",
    "\n",
    "cage_v = np.hstack((cage_v, np.zeros((cage_v.shape[0],1))))"
   ]
  },
  {
   "cell_type": "code",
   "execution_count": 4,
   "id": "silent-trust",
   "metadata": {
    "ExecuteTime": {
     "end_time": "2021-05-13T14:38:43.966254Z",
     "start_time": "2021-05-13T14:38:43.964308Z"
    }
   },
   "outputs": [],
   "source": [
    "num_cage_boundary_v = cage.shape[0]"
   ]
  },
  {
   "cell_type": "code",
   "execution_count": 5,
   "id": "egyptian-bulgarian",
   "metadata": {
    "ExecuteTime": {
     "end_time": "2021-05-13T14:38:43.970978Z",
     "start_time": "2021-05-13T14:38:43.967913Z"
    }
   },
   "outputs": [],
   "source": [
    "augmented_boundary = igl.boundary_loop(cage_f)"
   ]
  },
  {
   "cell_type": "code",
   "execution_count": 6,
   "id": "northern-adult",
   "metadata": {
    "ExecuteTime": {
     "end_time": "2021-05-13T14:38:43.977765Z",
     "start_time": "2021-05-13T14:38:43.974202Z"
    }
   },
   "outputs": [],
   "source": [
    "Lw = igl.cotmatrix(cage_v, cage_f)\n",
    "M = igl.massmatrix(cage_v, cage_f, igl.MASSMATRIX_TYPE_VORONOI)\n",
    "Minv = sp.diags(1 / M.diagonal())"
   ]
  },
  {
   "cell_type": "code",
   "execution_count": 7,
   "id": "approved-repository",
   "metadata": {
    "ExecuteTime": {
     "end_time": "2021-05-13T14:38:43.991929Z",
     "start_time": "2021-05-13T14:38:43.979265Z"
    },
    "scrolled": true
   },
   "outputs": [],
   "source": [
    "A = Minv * Lw\n",
    "Aff = A[np.argwhere(cage_markers!=1)[:,0],:]\n",
    "Aff = Aff[:,np.argwhere(cage_markers!=1)[:,0]]\n",
    "Afc = A[np.argwhere(cage_markers!=1)[:,0],:]\n",
    "Afc = Afc[:,np.argwhere(cage_markers==1)[:,0]]\n",
    "xc = np.zeros((np.sum(cage_markers), num_cage_boundary_v))\n",
    "xc[:num_cage_boundary_v,:] = np.eye(num_cage_boundary_v)\n",
    "\n",
    "augmented_boundary_v = np.argwhere(cage_markers==1)[num_cage_boundary_v:,0]\n",
    "for i in range(augmented_boundary_v.size):\n",
    "    curr_v = augmented_boundary_v[i]\n",
    "    j = np.argwhere(augmented_boundary==curr_v)[0]\n",
    "    \n",
    "    k1 = j\n",
    "    while True:\n",
    "        k1 = (k1-1) if k1-1>=0 else augmented_boundary.size-1\n",
    "        if augmented_boundary[k1] < num_cage_boundary_v:\n",
    "            break\n",
    "    k2 = j\n",
    "    while True:\n",
    "        k2 = (k2+1)%augmented_boundary.size\n",
    "        if augmented_boundary[k2] < num_cage_boundary_v:\n",
    "            break\n",
    "    len_seg = np.linalg.norm(cage_v[augmented_boundary[k1]] - cage_v[augmented_boundary[k2]])\n",
    "    len_k1 = np.linalg.norm(cage_v[augmented_boundary[k1]] - cage_v[curr_v])\n",
    "    xc[i+num_cage_boundary_v,augmented_boundary[k2]] = len_k1 / len_seg\n",
    "    xc[i+num_cage_boundary_v,augmented_boundary[k1]] = 1 - len_k1/len_seg      \n",
    "\n",
    "rhs = -Afc * xc\n",
    "xf = sp.linalg.spsolve(Aff, rhs)\n",
    "x = np.zeros((cage_v.shape[0], num_cage_boundary_v))\n",
    "x[:num_cage_boundary_v,:] = xc[:num_cage_boundary_v,:]\n",
    "x[augmented_boundary_v,:] = xc[num_cage_boundary_v:,:]\n",
    "x[np.argwhere(cage_markers!=1)[:,0],:] = xf"
   ]
  },
  {
   "cell_type": "code",
   "execution_count": 8,
   "id": "accessory-bhutan",
   "metadata": {
    "ExecuteTime": {
     "end_time": "2021-05-13T14:38:43.998106Z",
     "start_time": "2021-05-13T14:38:43.994529Z"
    }
   },
   "outputs": [],
   "source": [
    "def within_triangle(p, v, f):\n",
    "    for i in range(f.shape[0]):\n",
    "        v0 = v[f[i,0]]\n",
    "        v1 = v[f[i,1]]\n",
    "        v2 = v[f[i,2]]\n",
    "        A = np.vstack((v1-v0, v2-v0)).T\n",
    "        b = (p-v0)\n",
    "        sol = np.linalg.lstsq(A, b, rcond=None)[0]\n",
    "        if (sol[0] >= 0 and sol[1] >= 0 and sol[0]+sol[1]<=1):\n",
    "            return i"
   ]
  },
  {
   "cell_type": "code",
   "execution_count": 9,
   "id": "derived-being",
   "metadata": {
    "ExecuteTime": {
     "end_time": "2021-05-13T14:38:44.004489Z",
     "start_time": "2021-05-13T14:38:44.000363Z"
    }
   },
   "outputs": [],
   "source": [
    "def barycentric_coord(p, v, f, i):\n",
    "    v0 = v[f[i,0]]\n",
    "    v1 = v[f[i,1]]\n",
    "    v2 = v[f[i,2]]\n",
    "    A = np.vstack((v0,v1,v2)).T\n",
    "    A = np.vstack((A, np.ones((1,3))))\n",
    "    b = np.hstack((p, np.array([1,])))\n",
    "    w = np.linalg.lstsq(A, b, rcond=None)[0]\n",
    "    return w"
   ]
  },
  {
   "cell_type": "code",
   "execution_count": 10,
   "id": "empirical-jordan",
   "metadata": {
    "ExecuteTime": {
     "end_time": "2021-05-13T14:38:48.078740Z",
     "start_time": "2021-05-13T14:38:44.007178Z"
    },
    "scrolled": true
   },
   "outputs": [],
   "source": [
    "hc = np.zeros((v.shape[0], num_cage_boundary_v))\n",
    "for i in range(v.shape[0]):\n",
    "    cage_tri_ind = within_triangle(v[i], cage_v, cage_f)\n",
    "    w = barycentric_coord(v[i], cage_v, cage_f, cage_tri_ind)\n",
    "    hc[i,:] = w[0]*x[cage_f[cage_tri_ind,0], :] \\\n",
    "            + w[1]*x[cage_f[cage_tri_ind,1], :] \\\n",
    "            + w[2]*x[cage_f[cage_tri_ind,2], :]"
   ]
  },
  {
   "cell_type": "code",
   "execution_count": null,
   "id": "adolescent-allergy",
   "metadata": {},
   "outputs": [],
   "source": []
  },
  {
   "cell_type": "code",
   "execution_count": 19,
   "id": "encouraging-sound",
   "metadata": {
    "ExecuteTime": {
     "end_time": "2021-05-13T14:44:23.720494Z",
     "start_time": "2021-05-13T14:44:23.713635Z"
    }
   },
   "outputs": [],
   "source": [
    "cage_v_copy = cage_v.copy()\n",
    "v_copy = v.copy()\n",
    "# pos_f_saver = np.zeros(3)\n",
    "def pos_f(selected_vertices, x,y,z):\n",
    "#     pos_f_saver = [x,y,z]\n",
    "    t0 = time.time()\n",
    "    \n",
    "    if len(selected_vertices) > 0:\n",
    "        cage_v_copy[selected_vertices,:] = cage_v[selected_vertices,:] + np.array([x,y,z])\n",
    "    v_deformed = pos_f.deformer(cage_v_copy)\n",
    "    global point_oid\n",
    "    global line_oid\n",
    "    p.remove_object(point_oid)\n",
    "    p.remove_object(line_oid)\n",
    "    point_color = np.zeros(num_cage_boundary_v)\n",
    "    if len(selected_vertices) > 0:\n",
    "        point_color[np.array(selected_vertices)] = 1\n",
    "    point_oid = p.add_points(cage_v_copy[:num_cage_boundary_v,:], c=point_color, shading={\"point_size\":0.1})\n",
    "    line_oid = p.add_lines(cage_v_copy[:num_cage_boundary_v,:], np.vstack((cage_v_copy[1:num_cage_boundary_v,:],cage_v_copy[0,:])))\n",
    "    \n",
    "    p.update_object(oid=0, vertices = v_deformed)\n",
    "    \n",
    "    t1 = time.time()\n",
    "    print('FPS', 1/(t1 - t0))"
   ]
  },
  {
   "cell_type": "code",
   "execution_count": 20,
   "id": "pleased-debate",
   "metadata": {
    "ExecuteTime": {
     "end_time": "2021-05-13T14:44:24.023522Z",
     "start_time": "2021-05-13T14:44:24.020306Z"
    }
   },
   "outputs": [],
   "source": [
    "def widgets_wrapper():\n",
    "    select_widget = iw.SelectMultiple(\n",
    "                            options=np.arange(num_cage_boundary_v),\n",
    "                            rows=10,\n",
    "                            description=\"Select Cage Vertices\")\n",
    "    translate_widget = {i:iw.FloatSlider(min=-1, max=1, value=0) \n",
    "                        for i in 'xyz'}\n",
    "\n",
    "#     def update_seg(*args):\n",
    "#         (translate_widget['x'].value,translate_widget['y'].value,\n",
    "#         translate_widget['z'].value) = pos_f_saver\n",
    "#     update_seg()\n",
    "#     segment_widget.observe(update_seg, 'value')\n",
    "    widgets_dict = dict(selected_vertices=select_widget)\n",
    "    widgets_dict.update(translate_widget)\n",
    "    return widgets_dict"
   ]
  },
  {
   "cell_type": "code",
   "execution_count": 21,
   "id": "multiple-september",
   "metadata": {
    "ExecuteTime": {
     "end_time": "2021-05-13T14:44:24.263938Z",
     "start_time": "2021-05-13T14:44:24.261230Z"
    }
   },
   "outputs": [],
   "source": [
    "def position_deformer(cage_v_copy):\n",
    "    \n",
    "    return hc @ cage_v_copy[:num_cage_boundary_v,:]\n",
    "\n",
    "# Register this function to perform interactive deformation\n",
    "pos_f.deformer = position_deformer"
   ]
  },
  {
   "cell_type": "code",
   "execution_count": 22,
   "id": "advanced-hartford",
   "metadata": {
    "ExecuteTime": {
     "end_time": "2021-05-13T14:44:24.756198Z",
     "start_time": "2021-05-13T14:44:24.613025Z"
    },
    "scrolled": false
   },
   "outputs": [
    {
     "data": {
      "application/vnd.jupyter.widget-view+json": {
       "model_id": "e7fe504216b244f9bbb843015996a587",
       "version_major": 2,
       "version_minor": 0
      },
      "text/plain": [
       "Renderer(camera=PerspectiveCamera(children=(DirectionalLight(color='white', intensity=0.6, position=(0.4306930…"
      ]
     },
     "metadata": {},
     "output_type": "display_data"
    },
    {
     "data": {
      "application/vnd.jupyter.widget-view+json": {
       "model_id": "e551c634899f4428a7f2ce8931dd2c92",
       "version_major": 2,
       "version_minor": 0
      },
      "text/plain": [
       "interactive(children=(SelectMultiple(description='Select Cage Vertices', options=(0, 1, 2, 3, 4, 5, 6, 7, 8, 9…"
      ]
     },
     "metadata": {},
     "output_type": "display_data"
    },
    {
     "data": {
      "text/plain": [
       "<function __main__.pos_f(selected_vertices, x, y, z)>"
      ]
     },
     "execution_count": 22,
     "metadata": {},
     "output_type": "execute_result"
    }
   ],
   "source": [
    "p = mp.plot(v, f)#, shading={\"wireframe\":True})\n",
    "point_oid = p.add_points(cage, shading={\"point_color\":\"green\", \"point_size\":0.1})\n",
    "line_oid = p.add_lines(cage, np.vstack((cage[1:],cage[0])))\n",
    "\n",
    "iw.interact(pos_f,\n",
    "            **widgets_wrapper())"
   ]
  },
  {
   "cell_type": "code",
   "execution_count": null,
   "id": "parallel-cable",
   "metadata": {},
   "outputs": [],
   "source": []
  },
  {
   "cell_type": "code",
   "execution_count": null,
   "id": "verified-proposal",
   "metadata": {},
   "outputs": [],
   "source": []
  },
  {
   "cell_type": "code",
   "execution_count": null,
   "id": "vocal-count",
   "metadata": {},
   "outputs": [],
   "source": []
  },
  {
   "cell_type": "code",
   "execution_count": null,
   "id": "classified-burlington",
   "metadata": {},
   "outputs": [],
   "source": []
  },
  {
   "cell_type": "code",
   "execution_count": 13,
   "id": "distinct-texture",
   "metadata": {
    "ExecuteTime": {
     "end_time": "2021-05-13T13:47:58.010915Z",
     "start_time": "2021-05-13T13:47:58.006729Z"
    }
   },
   "outputs": [],
   "source": [
    "test = hc @ cage_v[:num_cage_boundary_v,:]\n",
    "p.update_object(oid=0, vertices=test)"
   ]
  },
  {
   "cell_type": "code",
   "execution_count": 14,
   "id": "multiple-practice",
   "metadata": {
    "ExecuteTime": {
     "end_time": "2021-05-13T13:47:59.379698Z",
     "start_time": "2021-05-13T13:47:59.341044Z"
    }
   },
   "outputs": [],
   "source": [
    "cage_v[0,0] -= 0.09\n",
    "cage_v[1,0] -= 0.09\n",
    "cage_v[2,0] -= 0.09\n",
    "cage_v[22,0] -= 0.09\n",
    "\n",
    "cage_v = x @ cage_v[:num_cage_boundary_v,:]\n",
    "\n",
    "p.remove_object(point_oid)\n",
    "p.remove_object(line_oid)\n",
    "point_oid = p.add_points(cage_v[:num_cage_boundary_v,:], shading={\"point_color\":\"green\", \"point_size\":0.1})\n",
    "line_oid = p.add_lines(cage_v[:num_cage_boundary_v,:], np.vstack((cage_v[1:num_cage_boundary_v,:],cage_v[0,:])))"
   ]
  },
  {
   "cell_type": "code",
   "execution_count": 15,
   "id": "precious-integration",
   "metadata": {
    "ExecuteTime": {
     "end_time": "2021-05-13T13:48:03.118214Z",
     "start_time": "2021-05-13T13:48:03.112076Z"
    }
   },
   "outputs": [],
   "source": [
    "test = hc @ cage_v[:num_cage_boundary_v,:]\n",
    "p.update_object(oid=0, vertices=test)"
   ]
  },
  {
   "cell_type": "code",
   "execution_count": null,
   "id": "imposed-oakland",
   "metadata": {},
   "outputs": [],
   "source": []
  },
  {
   "cell_type": "code",
   "execution_count": null,
   "id": "married-canadian",
   "metadata": {},
   "outputs": [],
   "source": []
  },
  {
   "cell_type": "code",
   "execution_count": null,
   "id": "marine-sociology",
   "metadata": {},
   "outputs": [],
   "source": []
  },
  {
   "cell_type": "code",
   "execution_count": null,
   "id": "unusual-gallery",
   "metadata": {},
   "outputs": [],
   "source": []
  },
  {
   "cell_type": "code",
   "execution_count": null,
   "id": "exterior-grass",
   "metadata": {},
   "outputs": [],
   "source": []
  }
 ],
 "metadata": {
  "kernelspec": {
   "display_name": "Python 3",
   "language": "python",
   "name": "python3"
  },
  "language_info": {
   "codemirror_mode": {
    "name": "ipython",
    "version": 3
   },
   "file_extension": ".py",
   "mimetype": "text/x-python",
   "name": "python",
   "nbconvert_exporter": "python",
   "pygments_lexer": "ipython3",
   "version": "3.9.1"
  }
 },
 "nbformat": 4,
 "nbformat_minor": 5
}
